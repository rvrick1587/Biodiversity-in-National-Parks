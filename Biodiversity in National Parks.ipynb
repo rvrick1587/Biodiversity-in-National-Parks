{
 "cells": [
  {
   "cell_type": "markdown",
   "metadata": {},
   "source": [
    "# Introduction"
   ]
  },
  {
   "cell_type": "markdown",
   "metadata": {},
   "source": [
    "Within this project, the goal is to analyze data from the National Parks Service regarding different species of animals and plants observed throughout different national park locations. \n",
    "\n",
    "This project will be working with (2) different data sets to analyze and prepare data, plot charts, and review findings from the analysis. \n",
    "\n",
    "Below are a list of questions that I will seek to answer within this project:\n",
    "+ What is the distribution of conservation status for animals?\n",
    "+ Are certain types of species more likely to need conservation?\n",
    "+ Are the differences between species and their conservation status significant?\n",
    "+ Which species were spotted the most at each park?"
   ]
  },
  {
   "cell_type": "markdown",
   "metadata": {},
   "source": [
    "### Data Sources"
   ]
  },
  {
   "cell_type": "markdown",
   "metadata": {},
   "source": [
    "The following (2) data sets are being provided by [CodeCademy](https://www.codecademy.com):\n",
    "+ `observations.csv`\n",
    "+ `species_info.csv`\n",
    "\n",
    "Note: The data for this project is inspired by real data, but is mostly fictional."
   ]
  },
  {
   "cell_type": "markdown",
   "metadata": {},
   "source": [
    "### Goals"
   ]
  },
  {
   "cell_type": "markdown",
   "metadata": {},
   "source": [
    "With the provided data, the main goals of the project will be to better understand characteristics of the different species and their conservation status, along with their relationships to the different national parks. As stated above, through the analysis of the provided data sets, I will seek to answer the following questions:\n",
    "+ What is the distribution of conservation status for animals?\n",
    "+ Are certain types of species more likely to be endangered?\n",
    "+ Are the differences between species and their conservation status significant?\n",
    "+ Which species were spotted the most at each park?"
   ]
  },
  {
   "cell_type": "markdown",
   "metadata": {},
   "source": [
    "# Getting Started"
   ]
  },
  {
   "cell_type": "markdown",
   "metadata": {},
   "source": [
    "First, it will be necessary to import the primary modules that will be used within this project."
   ]
  },
  {
   "cell_type": "code",
   "execution_count": 2,
   "metadata": {},
   "outputs": [],
   "source": [
    "import pandas as pd\n",
    "import numpy as np\n",
    "import matplotlib.pyplot as plt\n",
    "import seaborn as sns\n",
    "%matplotlib inline"
   ]
  },
  {
   "cell_type": "markdown",
   "metadata": {},
   "source": [
    "### Loading the Data"
   ]
  },
  {
   "cell_type": "markdown",
   "metadata": {},
   "source": [
    "In order to better analyze the data, the (2) provided data sets will be loaded into (2) new `DataFrames`:\n",
    "+ `observations`\n",
    "+ `species`\n",
    "\n",
    "Thereafter, `.head()` will be called on the `DataFrame` to display the first (5) rows. "
   ]
  },
  {
   "cell_type": "code",
   "execution_count": 3,
   "metadata": {},
   "outputs": [
    {
     "data": {
      "text/html": [
       "<div>\n",
       "<style scoped>\n",
       "    .dataframe tbody tr th:only-of-type {\n",
       "        vertical-align: middle;\n",
       "    }\n",
       "\n",
       "    .dataframe tbody tr th {\n",
       "        vertical-align: top;\n",
       "    }\n",
       "\n",
       "    .dataframe thead th {\n",
       "        text-align: right;\n",
       "    }\n",
       "</style>\n",
       "<table border=\"1\" class=\"dataframe\">\n",
       "  <thead>\n",
       "    <tr style=\"text-align: right;\">\n",
       "      <th></th>\n",
       "      <th>scientific_name</th>\n",
       "      <th>park_name</th>\n",
       "      <th>observations</th>\n",
       "    </tr>\n",
       "  </thead>\n",
       "  <tbody>\n",
       "    <tr>\n",
       "      <th>0</th>\n",
       "      <td>Vicia benghalensis</td>\n",
       "      <td>Great Smoky Mountains National Park</td>\n",
       "      <td>68</td>\n",
       "    </tr>\n",
       "    <tr>\n",
       "      <th>1</th>\n",
       "      <td>Neovison vison</td>\n",
       "      <td>Great Smoky Mountains National Park</td>\n",
       "      <td>77</td>\n",
       "    </tr>\n",
       "    <tr>\n",
       "      <th>2</th>\n",
       "      <td>Prunus subcordata</td>\n",
       "      <td>Yosemite National Park</td>\n",
       "      <td>138</td>\n",
       "    </tr>\n",
       "    <tr>\n",
       "      <th>3</th>\n",
       "      <td>Abutilon theophrasti</td>\n",
       "      <td>Bryce National Park</td>\n",
       "      <td>84</td>\n",
       "    </tr>\n",
       "    <tr>\n",
       "      <th>4</th>\n",
       "      <td>Githopsis specularioides</td>\n",
       "      <td>Great Smoky Mountains National Park</td>\n",
       "      <td>85</td>\n",
       "    </tr>\n",
       "  </tbody>\n",
       "</table>\n",
       "</div>"
      ],
      "text/plain": [
       "            scientific_name                            park_name  observations\n",
       "0        Vicia benghalensis  Great Smoky Mountains National Park            68\n",
       "1            Neovison vison  Great Smoky Mountains National Park            77\n",
       "2         Prunus subcordata               Yosemite National Park           138\n",
       "3      Abutilon theophrasti                  Bryce National Park            84\n",
       "4  Githopsis specularioides  Great Smoky Mountains National Park            85"
      ]
     },
     "execution_count": 3,
     "metadata": {},
     "output_type": "execute_result"
    }
   ],
   "source": [
    "observations = pd.read_csv('observations.csv')\n",
    "observations.head()"
   ]
  },
  {
   "cell_type": "code",
   "execution_count": 4,
   "metadata": {},
   "outputs": [
    {
     "data": {
      "text/html": [
       "<div>\n",
       "<style scoped>\n",
       "    .dataframe tbody tr th:only-of-type {\n",
       "        vertical-align: middle;\n",
       "    }\n",
       "\n",
       "    .dataframe tbody tr th {\n",
       "        vertical-align: top;\n",
       "    }\n",
       "\n",
       "    .dataframe thead th {\n",
       "        text-align: right;\n",
       "    }\n",
       "</style>\n",
       "<table border=\"1\" class=\"dataframe\">\n",
       "  <thead>\n",
       "    <tr style=\"text-align: right;\">\n",
       "      <th></th>\n",
       "      <th>category</th>\n",
       "      <th>scientific_name</th>\n",
       "      <th>common_names</th>\n",
       "      <th>conservation_status</th>\n",
       "    </tr>\n",
       "  </thead>\n",
       "  <tbody>\n",
       "    <tr>\n",
       "      <th>0</th>\n",
       "      <td>Mammal</td>\n",
       "      <td>Clethrionomys gapperi gapperi</td>\n",
       "      <td>Gapper's Red-Backed Vole</td>\n",
       "      <td>NaN</td>\n",
       "    </tr>\n",
       "    <tr>\n",
       "      <th>1</th>\n",
       "      <td>Mammal</td>\n",
       "      <td>Bos bison</td>\n",
       "      <td>American Bison, Bison</td>\n",
       "      <td>NaN</td>\n",
       "    </tr>\n",
       "    <tr>\n",
       "      <th>2</th>\n",
       "      <td>Mammal</td>\n",
       "      <td>Bos taurus</td>\n",
       "      <td>Aurochs, Aurochs, Domestic Cattle (Feral), Dom...</td>\n",
       "      <td>NaN</td>\n",
       "    </tr>\n",
       "    <tr>\n",
       "      <th>3</th>\n",
       "      <td>Mammal</td>\n",
       "      <td>Ovis aries</td>\n",
       "      <td>Domestic Sheep, Mouflon, Red Sheep, Sheep (Feral)</td>\n",
       "      <td>NaN</td>\n",
       "    </tr>\n",
       "    <tr>\n",
       "      <th>4</th>\n",
       "      <td>Mammal</td>\n",
       "      <td>Cervus elaphus</td>\n",
       "      <td>Wapiti Or Elk</td>\n",
       "      <td>NaN</td>\n",
       "    </tr>\n",
       "  </tbody>\n",
       "</table>\n",
       "</div>"
      ],
      "text/plain": [
       "  category                scientific_name  \\\n",
       "0   Mammal  Clethrionomys gapperi gapperi   \n",
       "1   Mammal                      Bos bison   \n",
       "2   Mammal                     Bos taurus   \n",
       "3   Mammal                     Ovis aries   \n",
       "4   Mammal                 Cervus elaphus   \n",
       "\n",
       "                                        common_names conservation_status  \n",
       "0                           Gapper's Red-Backed Vole                 NaN  \n",
       "1                              American Bison, Bison                 NaN  \n",
       "2  Aurochs, Aurochs, Domestic Cattle (Feral), Dom...                 NaN  \n",
       "3  Domestic Sheep, Mouflon, Red Sheep, Sheep (Feral)                 NaN  \n",
       "4                                      Wapiti Or Elk                 NaN  "
      ]
     },
     "execution_count": 4,
     "metadata": {},
     "output_type": "execute_result"
    }
   ],
   "source": [
    "species = pd.read_csv('species_info.csv')\n",
    "species.head()"
   ]
  },
  {
   "cell_type": "markdown",
   "metadata": {},
   "source": [
    "### Exploring the DataFrames"
   ]
  },
  {
   "cell_type": "markdown",
   "metadata": {},
   "source": [
    "Within `observations` there are (3) columns and they are described below:\n",
    "+ **scientific_name** - the scientific name of each species\n",
    "+ **park_name** - park where species were found\n",
    "+ **observations** - the number of times each species was observed at park\n",
    "\n",
    "Within `species` there are (4) columns, and they are described below:\n",
    "+ **category** - class of animal\n",
    "+ **scientific_name** - the scientific name of each species\n",
    "+ **common_name** - the common names of each species\n",
    "+ **conservation_status** - each species’ current conservation status"
   ]
  },
  {
   "cell_type": "markdown",
   "metadata": {},
   "source": [
    "Below I will explore further dimensions of the data sets. "
   ]
  },
  {
   "cell_type": "code",
   "execution_count": 5,
   "metadata": {},
   "outputs": [
    {
     "name": "stdout",
     "output_type": "stream",
     "text": [
      "observations shape: (23296, 3)\n",
      "species shape: (5824, 4)\n"
     ]
    }
   ],
   "source": [
    "print(f\"observations shape: {observations.shape}\")\n",
    "print(f\"species shape: {species.shape}\")"
   ]
  },
  {
   "cell_type": "markdown",
   "metadata": {},
   "source": [
    "#### Observations"
   ]
  },
  {
   "cell_type": "markdown",
   "metadata": {},
   "source": [
    "Using the `observations` data set, I will first want to explore the total number of national parks, names of the national parks, the `sum` of the `observations`, and the count of unique `scientific_name` observed at the park. "
   ]
  },
  {
   "cell_type": "markdown",
   "metadata": {},
   "source": [
    "There are a total of (4) national parks within the data set, each listed below:\n",
    "+ Great Smoky Mountains National Park\n",
    "+ Yosemite National Park\n",
    "+ Bryce National Park\n",
    "+ Yellowstone National Park\n",
    "\n",
    "Throughout the (4) national parks, there were a total of 3,314,739 observations of 5,541 unique species observed within a 7 day period! Yellowstone National Park appears to have the most observations with 1,443,562 observations throughout the 7 day period. "
   ]
  },
  {
   "cell_type": "code",
   "execution_count": 6,
   "metadata": {},
   "outputs": [
    {
     "name": "stdout",
     "output_type": "stream",
     "text": [
      "Total number of national parks: 4\n",
      "National Park Names: ['Great Smoky Mountains National Park' 'Yosemite National Park'\n",
      " 'Bryce National Park' 'Yellowstone National Park']\n"
     ]
    }
   ],
   "source": [
    "print(f\"Total number of national parks: {observations.park_name.nunique()}\")\n",
    "print(f\"National Park Names: {observations.park_name.unique()}\")"
   ]
  },
  {
   "cell_type": "code",
   "execution_count": 7,
   "metadata": {},
   "outputs": [
    {
     "name": "stdout",
     "output_type": "stream",
     "text": [
      "Total number of observations: 3314739\n"
     ]
    }
   ],
   "source": [
    "print(f\"Total number of observations: {observations.observations.sum()}\")"
   ]
  },
  {
   "cell_type": "code",
   "execution_count": 8,
   "metadata": {},
   "outputs": [
    {
     "name": "stdout",
     "output_type": "stream",
     "text": [
      "Unique scientific names: 5541\n"
     ]
    }
   ],
   "source": [
    "print(f\"Unique scientific names: {observations.scientific_name.nunique()}\")"
   ]
  },
  {
   "cell_type": "code",
   "execution_count": 9,
   "metadata": {},
   "outputs": [
    {
     "data": {
      "text/html": [
       "<div>\n",
       "<style scoped>\n",
       "    .dataframe tbody tr th:only-of-type {\n",
       "        vertical-align: middle;\n",
       "    }\n",
       "\n",
       "    .dataframe tbody tr th {\n",
       "        vertical-align: top;\n",
       "    }\n",
       "\n",
       "    .dataframe thead th {\n",
       "        text-align: right;\n",
       "    }\n",
       "</style>\n",
       "<table border=\"1\" class=\"dataframe\">\n",
       "  <thead>\n",
       "    <tr style=\"text-align: right;\">\n",
       "      <th></th>\n",
       "      <th>National Parks</th>\n",
       "      <th>Observations</th>\n",
       "    </tr>\n",
       "  </thead>\n",
       "  <tbody>\n",
       "    <tr>\n",
       "      <th>0</th>\n",
       "      <td>Bryce National Park</td>\n",
       "      <td>576025</td>\n",
       "    </tr>\n",
       "    <tr>\n",
       "      <th>1</th>\n",
       "      <td>Great Smoky Mountains National Park</td>\n",
       "      <td>431820</td>\n",
       "    </tr>\n",
       "    <tr>\n",
       "      <th>2</th>\n",
       "      <td>Yellowstone National Park</td>\n",
       "      <td>1443562</td>\n",
       "    </tr>\n",
       "    <tr>\n",
       "      <th>3</th>\n",
       "      <td>Yosemite National Park</td>\n",
       "      <td>863332</td>\n",
       "    </tr>\n",
       "  </tbody>\n",
       "</table>\n",
       "</div>"
      ],
      "text/plain": [
       "                        National Parks  Observations\n",
       "0                  Bryce National Park        576025\n",
       "1  Great Smoky Mountains National Park        431820\n",
       "2            Yellowstone National Park       1443562\n",
       "3               Yosemite National Park        863332"
      ]
     },
     "execution_count": 9,
     "metadata": {},
     "output_type": "execute_result"
    }
   ],
   "source": [
    "park_observations = observations.groupby(\"park_name\").sum(\"observations\").reset_index()\n",
    "park_observations.columns = [\"National Parks\", \"Observations\"]\n",
    "park_observations.Observations = pd.to_numeric(park_observations.Observations)\n",
    "park_observations"
   ]
  },
  {
   "cell_type": "code",
   "execution_count": 10,
   "metadata": {},
   "outputs": [
    {
     "data": {
      "image/png": "[encoded data removed]",
      "text/plain": [
       "<Figure size 432x288 with 1 Axes>"
      ]
     },
     "metadata": {
      "needs_background": "light"
     },
     "output_type": "display_data"
    }
   ],
   "source": [
    "sns.barplot(data = park_observations, x = \"Observations\", y = \"National Parks\")\n",
    "plt.title(\"Observations of Species at National Parks\")\n",
    "plt.xlabel(\"Observations (in millions)\");"
   ]
  },
  {
   "cell_type": "markdown",
   "metadata": {},
   "source": [
    "#### Species"
   ]
  },
  {
   "cell_type": "markdown",
   "metadata": {},
   "source": [
    "Using the `species` data set, I will first explore the unique categories of `species` within the data set, and the total count of `species` within each `category`."
   ]
  },
  {
   "cell_type": "markdown",
   "metadata": {},
   "source": [
    "The (7) unique categories of species are listed below:\n",
    "+ Mammal\n",
    "+ Bird\n",
    "+ Reptile\n",
    "+ Amphibian\n",
    "+ Fish\n",
    "+ Vascular Plant\n",
    "+ Nonvascular Plant\n",
    "\n",
    "`Vascular Plant` appears to have the largest share of the species at 4,470, and `Amphibian` and `Reptile` are coming in with the lowest share at 80 and 79 respectively. "
   ]
  },
  {
   "cell_type": "code",
   "execution_count": 11,
   "metadata": {},
   "outputs": [
    {
     "name": "stdout",
     "output_type": "stream",
     "text": [
      "Total number of categories: 7\n",
      "Unique categories: ['Mammal' 'Bird' 'Reptile' 'Amphibian' 'Fish' 'Vascular Plant'\n",
      " 'Nonvascular Plant']\n"
     ]
    }
   ],
   "source": [
    "print(f\"Total number of categories: {species.category.nunique()}\")\n",
    "print(f\"Unique categories: {species.category.unique()}\")"
   ]
  },
  {
   "cell_type": "code",
   "execution_count": 12,
   "metadata": {},
   "outputs": [
    {
     "data": {
      "text/html": [
       "<div>\n",
       "<style scoped>\n",
       "    .dataframe tbody tr th:only-of-type {\n",
       "        vertical-align: middle;\n",
       "    }\n",
       "\n",
       "    .dataframe tbody tr th {\n",
       "        vertical-align: top;\n",
       "    }\n",
       "\n",
       "    .dataframe thead th {\n",
       "        text-align: right;\n",
       "    }\n",
       "</style>\n",
       "<table border=\"1\" class=\"dataframe\">\n",
       "  <thead>\n",
       "    <tr style=\"text-align: right;\">\n",
       "      <th></th>\n",
       "      <th>Category</th>\n",
       "      <th>Count</th>\n",
       "    </tr>\n",
       "  </thead>\n",
       "  <tbody>\n",
       "    <tr>\n",
       "      <th>0</th>\n",
       "      <td>Vascular Plant</td>\n",
       "      <td>4470</td>\n",
       "    </tr>\n",
       "    <tr>\n",
       "      <th>1</th>\n",
       "      <td>Bird</td>\n",
       "      <td>521</td>\n",
       "    </tr>\n",
       "    <tr>\n",
       "      <th>2</th>\n",
       "      <td>Nonvascular Plant</td>\n",
       "      <td>333</td>\n",
       "    </tr>\n",
       "    <tr>\n",
       "      <th>3</th>\n",
       "      <td>Mammal</td>\n",
       "      <td>214</td>\n",
       "    </tr>\n",
       "    <tr>\n",
       "      <th>4</th>\n",
       "      <td>Fish</td>\n",
       "      <td>127</td>\n",
       "    </tr>\n",
       "    <tr>\n",
       "      <th>5</th>\n",
       "      <td>Amphibian</td>\n",
       "      <td>80</td>\n",
       "    </tr>\n",
       "    <tr>\n",
       "      <th>6</th>\n",
       "      <td>Reptile</td>\n",
       "      <td>79</td>\n",
       "    </tr>\n",
       "  </tbody>\n",
       "</table>\n",
       "</div>"
      ],
      "text/plain": [
       "            Category  Count\n",
       "0     Vascular Plant   4470\n",
       "1               Bird    521\n",
       "2  Nonvascular Plant    333\n",
       "3             Mammal    214\n",
       "4               Fish    127\n",
       "5          Amphibian     80\n",
       "6            Reptile     79"
      ]
     },
     "execution_count": 12,
     "metadata": {},
     "output_type": "execute_result"
    }
   ],
   "source": [
    "category_size = species.groupby(\"category\").size().sort_values(ascending = False).reset_index()\n",
    "category_size.columns = [\"Category\", \"Count\"]\n",
    "category_size"
   ]
  },
  {
   "cell_type": "code",
   "execution_count": 13,
   "metadata": {},
   "outputs": [
    {
     "data": {
      "image/png": "[encoded data removed]",
      "text/plain": [
       "<Figure size 432x288 with 1 Axes>"
      ]
     },
     "metadata": {
      "needs_background": "light"
     },
     "output_type": "display_data"
    }
   ],
   "source": [
    "sns.barplot(data = category_size, x = \"Count\", y = \"Category\")\n",
    "plt.title(\"Number of Species per Category\");"
   ]
  },
  {
   "cell_type": "markdown",
   "metadata": {},
   "source": [
    "Next, I want to explore the `conservation_status` column to find out how many different values there are, the names, and the total count of species observed per value."
   ]
  },
  {
   "cell_type": "code",
   "execution_count": 14,
   "metadata": {},
   "outputs": [
    {
     "name": "stdout",
     "output_type": "stream",
     "text": [
      "Number of conservation statuses: 4\n",
      "Unique conservation statuses: [nan 'Species of Concern' 'Endangered' 'Threatened' 'In Recovery']\n"
     ]
    }
   ],
   "source": [
    "print(f\"Number of conservation statuses: {species.conservation_status.nunique()}\")\n",
    "print(f\"Unique conservation statuses: {species.conservation_status.unique()}\")"
   ]
  },
  {
   "cell_type": "markdown",
   "metadata": {},
   "source": [
    "There are a total of (4) unique conservation statuses:\n",
    "+ `Species of Concern`: declining or appear to be in need of conservation\n",
    "+ `Threatened`: vulnerable to endangerment in the near future\n",
    "+ `Endangered`: seriously at risk of extinction\n",
    "+ `In Recovery`: formerly `Endangered`, but currently neither in danger of extinction throughout all or a significant portion of its range\n",
    "\n",
    "There also appears to be a number of species with `nan` values. In this case, the `nan` values tell me that these species are not under any conservation status, and they do not require any intervention. To eliminate the `nan` values, I will convert the status to `No Intervention`, thereafter, I will get a count of species listed under each unique `conservation_status`."
   ]
  },
  {
   "cell_type": "markdown",
   "metadata": {},
   "source": [
    "It is good to see that a majority of the species do not carry a conservation status, whereas (16) are `Endangered`, (4) are `In Recovery`, (161) are `Species of Concern`, and (10) are `Threatened`. "
   ]
  },
  {
   "cell_type": "code",
   "execution_count": 15,
   "metadata": {},
   "outputs": [
    {
     "data": {
      "text/plain": [
       "conservation_status\n",
       "No Intervention       5633\n",
       "Species of Concern     161\n",
       "Endangered              16\n",
       "Threatened              10\n",
       "In Recovery              4\n",
       "dtype: int64"
      ]
     },
     "execution_count": 15,
     "metadata": {},
     "output_type": "execute_result"
    }
   ],
   "source": [
    "species.fillna(\"No Intervention\", inplace = True)\n",
    "species.groupby(\"conservation_status\").size().sort_values(ascending = False)"
   ]
  },
  {
   "cell_type": "markdown",
   "metadata": {},
   "source": [
    "Lastly, I will get the total unique `scientific_name` value to see if it matches correctly with the `observation` data set. "
   ]
  },
  {
   "cell_type": "code",
   "execution_count": 16,
   "metadata": {},
   "outputs": [
    {
     "name": "stdout",
     "output_type": "stream",
     "text": [
      "Number of unique species: 5541\n"
     ]
    }
   ],
   "source": [
    "print(f\"Number of unique species: {species.scientific_name.nunique()}\")"
   ]
  },
  {
   "cell_type": "markdown",
   "metadata": {},
   "source": [
    "### Analysis of Endangerment"
   ]
  },
  {
   "cell_type": "markdown",
   "metadata": {},
   "source": [
    "After reviewing a few elements of the data sets, I will now do further work in regards to understanding `conservation_status` per `category` of `species`. "
   ]
  },
  {
   "cell_type": "markdown",
   "metadata": {},
   "source": [
    "Of the 16 `species` that are `Endangered`, (7) are `Mammal`, (4) `Bird`, (3) `Fish`, and `Amphibian` and `Vascular Plant` each have (1). `Mammal` makes up the fourth largest `category` of `species`, so it appears that `Mammal` is the `species` that is most likely to be endangered throughout the national parks. There is a large number of `Bird` `species` that fall under `Species of Concern`, however, `Bird` is also the second largest category of `species`, coming in at (521). "
   ]
  },
  {
   "cell_type": "code",
   "execution_count": 17,
   "metadata": {},
   "outputs": [
    {
     "data": {
      "text/html": [
       "<div>\n",
       "<style scoped>\n",
       "    .dataframe tbody tr th:only-of-type {\n",
       "        vertical-align: middle;\n",
       "    }\n",
       "\n",
       "    .dataframe tbody tr th {\n",
       "        vertical-align: top;\n",
       "    }\n",
       "\n",
       "    .dataframe thead th {\n",
       "        text-align: right;\n",
       "    }\n",
       "</style>\n",
       "<table border=\"1\" class=\"dataframe\">\n",
       "  <thead>\n",
       "    <tr style=\"text-align: right;\">\n",
       "      <th>category</th>\n",
       "      <th>Amphibian</th>\n",
       "      <th>Bird</th>\n",
       "      <th>Fish</th>\n",
       "      <th>Mammal</th>\n",
       "      <th>Nonvascular Plant</th>\n",
       "      <th>Reptile</th>\n",
       "      <th>Vascular Plant</th>\n",
       "    </tr>\n",
       "    <tr>\n",
       "      <th>conservation_status</th>\n",
       "      <th></th>\n",
       "      <th></th>\n",
       "      <th></th>\n",
       "      <th></th>\n",
       "      <th></th>\n",
       "      <th></th>\n",
       "      <th></th>\n",
       "    </tr>\n",
       "  </thead>\n",
       "  <tbody>\n",
       "    <tr>\n",
       "      <th>Endangered</th>\n",
       "      <td>1.0</td>\n",
       "      <td>4.0</td>\n",
       "      <td>3.0</td>\n",
       "      <td>7.0</td>\n",
       "      <td>NaN</td>\n",
       "      <td>NaN</td>\n",
       "      <td>1.0</td>\n",
       "    </tr>\n",
       "    <tr>\n",
       "      <th>In Recovery</th>\n",
       "      <td>NaN</td>\n",
       "      <td>3.0</td>\n",
       "      <td>NaN</td>\n",
       "      <td>1.0</td>\n",
       "      <td>NaN</td>\n",
       "      <td>NaN</td>\n",
       "      <td>NaN</td>\n",
       "    </tr>\n",
       "    <tr>\n",
       "      <th>Species of Concern</th>\n",
       "      <td>4.0</td>\n",
       "      <td>72.0</td>\n",
       "      <td>4.0</td>\n",
       "      <td>28.0</td>\n",
       "      <td>5.0</td>\n",
       "      <td>5.0</td>\n",
       "      <td>43.0</td>\n",
       "    </tr>\n",
       "    <tr>\n",
       "      <th>Threatened</th>\n",
       "      <td>2.0</td>\n",
       "      <td>NaN</td>\n",
       "      <td>4.0</td>\n",
       "      <td>2.0</td>\n",
       "      <td>NaN</td>\n",
       "      <td>NaN</td>\n",
       "      <td>2.0</td>\n",
       "    </tr>\n",
       "  </tbody>\n",
       "</table>\n",
       "</div>"
      ],
      "text/plain": [
       "category             Amphibian  Bird  Fish  Mammal  Nonvascular Plant  \\\n",
       "conservation_status                                                     \n",
       "Endangered                 1.0   4.0   3.0     7.0                NaN   \n",
       "In Recovery                NaN   3.0   NaN     1.0                NaN   \n",
       "Species of Concern         4.0  72.0   4.0    28.0                5.0   \n",
       "Threatened                 2.0   NaN   4.0     2.0                NaN   \n",
       "\n",
       "category             Reptile  Vascular Plant  \n",
       "conservation_status                           \n",
       "Endangered               NaN             1.0  \n",
       "In Recovery              NaN             NaN  \n",
       "Species of Concern       5.0            43.0  \n",
       "Threatened               NaN             2.0  "
      ]
     },
     "execution_count": 17,
     "metadata": {},
     "output_type": "execute_result"
    }
   ],
   "source": [
    "conservation_cat = species[species.conservation_status != \"No Intervention\"]\\\n",
    "        .groupby([\"conservation_status\", \"category\"])[\"scientific_name\"].count().unstack()\n",
    "conservation_cat"
   ]
  },
  {
   "cell_type": "code",
   "execution_count": 18,
   "metadata": {},
   "outputs": [
    {
     "data": {
      "image/png": "[encoded data removed]",
      "text/plain": [
       "<Figure size 720x432 with 1 Axes>"
      ]
     },
     "metadata": {
      "needs_background": "light"
     },
     "output_type": "display_data"
    }
   ],
   "source": [
    "ax = conservation_cat.plot(kind = \"bar\", stacked = True, figsize = (10,6))\n",
    "ax.set_xlabel(\"Conservation Status\")\n",
    "ax.set_ylabel(\"Number of Species\")\n",
    "plt.title(\"Number of Species per Conservation Status\");"
   ]
  },
  {
   "cell_type": "markdown",
   "metadata": {},
   "source": [
    "### Significance of Conservation Statuses"
   ]
  },
  {
   "cell_type": "markdown",
   "metadata": {},
   "source": [
    "Next, I will be exploring whether certain types of `species` more likely to need conservation, and whether the differences between `species` and their `conservation_status` is significant.\n",
    "\n",
    "First, to address whether certaim types of `species` are more likely to need conservation, I will be creating a new column in `species` called `is_protected` that will consist of a count of species that had any value other than `No Intervention` in `conservation_status`. "
   ]
  },
  {
   "cell_type": "code",
   "execution_count": 19,
   "metadata": {},
   "outputs": [
    {
     "data": {
      "text/html": [
       "<div>\n",
       "<style scoped>\n",
       "    .dataframe tbody tr th:only-of-type {\n",
       "        vertical-align: middle;\n",
       "    }\n",
       "\n",
       "    .dataframe tbody tr th {\n",
       "        vertical-align: top;\n",
       "    }\n",
       "\n",
       "    .dataframe thead th {\n",
       "        text-align: right;\n",
       "    }\n",
       "</style>\n",
       "<table border=\"1\" class=\"dataframe\">\n",
       "  <thead>\n",
       "    <tr style=\"text-align: right;\">\n",
       "      <th></th>\n",
       "      <th>category</th>\n",
       "      <th>scientific_name</th>\n",
       "      <th>common_names</th>\n",
       "      <th>conservation_status</th>\n",
       "      <th>is_protected</th>\n",
       "    </tr>\n",
       "  </thead>\n",
       "  <tbody>\n",
       "    <tr>\n",
       "      <th>0</th>\n",
       "      <td>Mammal</td>\n",
       "      <td>Clethrionomys gapperi gapperi</td>\n",
       "      <td>Gapper's Red-Backed Vole</td>\n",
       "      <td>No Intervention</td>\n",
       "      <td>False</td>\n",
       "    </tr>\n",
       "    <tr>\n",
       "      <th>1</th>\n",
       "      <td>Mammal</td>\n",
       "      <td>Bos bison</td>\n",
       "      <td>American Bison, Bison</td>\n",
       "      <td>No Intervention</td>\n",
       "      <td>False</td>\n",
       "    </tr>\n",
       "    <tr>\n",
       "      <th>2</th>\n",
       "      <td>Mammal</td>\n",
       "      <td>Bos taurus</td>\n",
       "      <td>Aurochs, Aurochs, Domestic Cattle (Feral), Dom...</td>\n",
       "      <td>No Intervention</td>\n",
       "      <td>False</td>\n",
       "    </tr>\n",
       "    <tr>\n",
       "      <th>3</th>\n",
       "      <td>Mammal</td>\n",
       "      <td>Ovis aries</td>\n",
       "      <td>Domestic Sheep, Mouflon, Red Sheep, Sheep (Feral)</td>\n",
       "      <td>No Intervention</td>\n",
       "      <td>False</td>\n",
       "    </tr>\n",
       "    <tr>\n",
       "      <th>4</th>\n",
       "      <td>Mammal</td>\n",
       "      <td>Cervus elaphus</td>\n",
       "      <td>Wapiti Or Elk</td>\n",
       "      <td>No Intervention</td>\n",
       "      <td>False</td>\n",
       "    </tr>\n",
       "  </tbody>\n",
       "</table>\n",
       "</div>"
      ],
      "text/plain": [
       "  category                scientific_name  \\\n",
       "0   Mammal  Clethrionomys gapperi gapperi   \n",
       "1   Mammal                      Bos bison   \n",
       "2   Mammal                     Bos taurus   \n",
       "3   Mammal                     Ovis aries   \n",
       "4   Mammal                 Cervus elaphus   \n",
       "\n",
       "                                        common_names conservation_status  \\\n",
       "0                           Gapper's Red-Backed Vole     No Intervention   \n",
       "1                              American Bison, Bison     No Intervention   \n",
       "2  Aurochs, Aurochs, Domestic Cattle (Feral), Dom...     No Intervention   \n",
       "3  Domestic Sheep, Mouflon, Red Sheep, Sheep (Feral)     No Intervention   \n",
       "4                                      Wapiti Or Elk     No Intervention   \n",
       "\n",
       "   is_protected  \n",
       "0         False  \n",
       "1         False  \n",
       "2         False  \n",
       "3         False  \n",
       "4         False  "
      ]
     },
     "execution_count": 19,
     "metadata": {},
     "output_type": "execute_result"
    }
   ],
   "source": [
    "species[\"is_protected\"] = species.conservation_status != \"No Intervention\"\n",
    "species.head()"
   ]
  },
  {
   "cell_type": "markdown",
   "metadata": {},
   "source": [
    "For this new column, `False` means the species does not carry any type of `conservation_status`, and `True` means that they do carry some type of `conservation_status`. I will need to get a count by `scientific_name` and `groupby` `category` to fully understand how many are, and are not, protected. I will create a new table called `protected_count`. "
   ]
  },
  {
   "cell_type": "code",
   "execution_count": 20,
   "metadata": {},
   "outputs": [
    {
     "data": {
      "text/html": [
       "<div>\n",
       "<style scoped>\n",
       "    .dataframe tbody tr th:only-of-type {\n",
       "        vertical-align: middle;\n",
       "    }\n",
       "\n",
       "    .dataframe tbody tr th {\n",
       "        vertical-align: top;\n",
       "    }\n",
       "\n",
       "    .dataframe thead th {\n",
       "        text-align: right;\n",
       "    }\n",
       "</style>\n",
       "<table border=\"1\" class=\"dataframe\">\n",
       "  <thead>\n",
       "    <tr style=\"text-align: right;\">\n",
       "      <th></th>\n",
       "      <th>category</th>\n",
       "      <th>not_protected</th>\n",
       "      <th>protected</th>\n",
       "    </tr>\n",
       "  </thead>\n",
       "  <tbody>\n",
       "    <tr>\n",
       "      <th>0</th>\n",
       "      <td>Amphibian</td>\n",
       "      <td>72</td>\n",
       "      <td>7</td>\n",
       "    </tr>\n",
       "    <tr>\n",
       "      <th>1</th>\n",
       "      <td>Bird</td>\n",
       "      <td>413</td>\n",
       "      <td>75</td>\n",
       "    </tr>\n",
       "    <tr>\n",
       "      <th>2</th>\n",
       "      <td>Fish</td>\n",
       "      <td>115</td>\n",
       "      <td>11</td>\n",
       "    </tr>\n",
       "    <tr>\n",
       "      <th>3</th>\n",
       "      <td>Mammal</td>\n",
       "      <td>146</td>\n",
       "      <td>30</td>\n",
       "    </tr>\n",
       "    <tr>\n",
       "      <th>4</th>\n",
       "      <td>Nonvascular Plant</td>\n",
       "      <td>328</td>\n",
       "      <td>5</td>\n",
       "    </tr>\n",
       "    <tr>\n",
       "      <th>5</th>\n",
       "      <td>Reptile</td>\n",
       "      <td>73</td>\n",
       "      <td>5</td>\n",
       "    </tr>\n",
       "    <tr>\n",
       "      <th>6</th>\n",
       "      <td>Vascular Plant</td>\n",
       "      <td>4216</td>\n",
       "      <td>46</td>\n",
       "    </tr>\n",
       "  </tbody>\n",
       "</table>\n",
       "</div>"
      ],
      "text/plain": [
       "            category  not_protected  protected\n",
       "0          Amphibian             72          7\n",
       "1               Bird            413         75\n",
       "2               Fish            115         11\n",
       "3             Mammal            146         30\n",
       "4  Nonvascular Plant            328          5\n",
       "5            Reptile             73          5\n",
       "6     Vascular Plant           4216         46"
      ]
     },
     "execution_count": 20,
     "metadata": {},
     "output_type": "execute_result"
    }
   ],
   "source": [
    "protected_count = species.groupby([\"category\", \"is_protected\"]).scientific_name.nunique()\\\n",
    "        .reset_index().pivot(columns = \"is_protected\", index = \"category\", values = \"scientific_name\")\\\n",
    "        .reset_index()\n",
    "\n",
    "protected_count.columns = [\"category\", \"not_protected\", \"protected\"]\n",
    "\n",
    "protected_count"
   ]
  },
  {
   "cell_type": "code",
   "execution_count": 21,
   "metadata": {},
   "outputs": [
    {
     "data": {
      "image/png": "[encoded data removed]",
      "text/plain": [
       "<Figure size 720x432 with 1 Axes>"
      ]
     },
     "metadata": {
      "needs_background": "light"
     },
     "output_type": "display_data"
    }
   ],
   "source": [
    "ax = protected_count.plot(kind = \"bar\", stacked = False, figsize = (10,6))\n",
    "ax.set_xticks(range(len(protected_count.category)))\n",
    "ax.set_xticklabels(protected_count.category)\n",
    "ax.set_xlabel(\"Category of Species\")\n",
    "ax.set_ylabel(\"Count of Protected vs. Not Protected Species\")\n",
    "plt.title(\"Protected vs. Not protected Species by Category\");"
   ]
  },
  {
   "cell_type": "markdown",
   "metadata": {},
   "source": [
    "To get a better perspective of how many `species` do carry a `conservation_status`, I will break it down by percentage, and save the percentages to a new column in `protected_count` called `percent_protected`."
   ]
  },
  {
   "cell_type": "code",
   "execution_count": 22,
   "metadata": {},
   "outputs": [
    {
     "data": {
      "text/html": [
       "<div>\n",
       "<style scoped>\n",
       "    .dataframe tbody tr th:only-of-type {\n",
       "        vertical-align: middle;\n",
       "    }\n",
       "\n",
       "    .dataframe tbody tr th {\n",
       "        vertical-align: top;\n",
       "    }\n",
       "\n",
       "    .dataframe thead th {\n",
       "        text-align: right;\n",
       "    }\n",
       "</style>\n",
       "<table border=\"1\" class=\"dataframe\">\n",
       "  <thead>\n",
       "    <tr style=\"text-align: right;\">\n",
       "      <th></th>\n",
       "      <th>category</th>\n",
       "      <th>not_protected</th>\n",
       "      <th>protected</th>\n",
       "      <th>percent_protected</th>\n",
       "    </tr>\n",
       "  </thead>\n",
       "  <tbody>\n",
       "    <tr>\n",
       "      <th>0</th>\n",
       "      <td>Amphibian</td>\n",
       "      <td>72</td>\n",
       "      <td>7</td>\n",
       "      <td>8.86</td>\n",
       "    </tr>\n",
       "    <tr>\n",
       "      <th>1</th>\n",
       "      <td>Bird</td>\n",
       "      <td>413</td>\n",
       "      <td>75</td>\n",
       "      <td>15.37</td>\n",
       "    </tr>\n",
       "    <tr>\n",
       "      <th>2</th>\n",
       "      <td>Fish</td>\n",
       "      <td>115</td>\n",
       "      <td>11</td>\n",
       "      <td>8.73</td>\n",
       "    </tr>\n",
       "    <tr>\n",
       "      <th>3</th>\n",
       "      <td>Mammal</td>\n",
       "      <td>146</td>\n",
       "      <td>30</td>\n",
       "      <td>17.05</td>\n",
       "    </tr>\n",
       "    <tr>\n",
       "      <th>4</th>\n",
       "      <td>Nonvascular Plant</td>\n",
       "      <td>328</td>\n",
       "      <td>5</td>\n",
       "      <td>1.50</td>\n",
       "    </tr>\n",
       "    <tr>\n",
       "      <th>5</th>\n",
       "      <td>Reptile</td>\n",
       "      <td>73</td>\n",
       "      <td>5</td>\n",
       "      <td>6.41</td>\n",
       "    </tr>\n",
       "    <tr>\n",
       "      <th>6</th>\n",
       "      <td>Vascular Plant</td>\n",
       "      <td>4216</td>\n",
       "      <td>46</td>\n",
       "      <td>1.08</td>\n",
       "    </tr>\n",
       "  </tbody>\n",
       "</table>\n",
       "</div>"
      ],
      "text/plain": [
       "            category  not_protected  protected  percent_protected\n",
       "0          Amphibian             72          7               8.86\n",
       "1               Bird            413         75              15.37\n",
       "2               Fish            115         11               8.73\n",
       "3             Mammal            146         30              17.05\n",
       "4  Nonvascular Plant            328          5               1.50\n",
       "5            Reptile             73          5               6.41\n",
       "6     Vascular Plant           4216         46               1.08"
      ]
     },
     "execution_count": 22,
     "metadata": {},
     "output_type": "execute_result"
    }
   ],
   "source": [
    "protected_count[\"percent_protected\"] = round(protected_count.protected / \\\n",
    "        (protected_count.protected + protected_count.not_protected) * 100, 2)\n",
    "\n",
    "protected_count"
   ]
  },
  {
   "cell_type": "markdown",
   "metadata": {},
   "source": [
    "In confirmation of what was stated above, roughly 17% of mammals carry some type of conservation status, and they make up the fourth largest `category` of `species`. `Bird` makes up the second largest `category` of `species`, and roughly 15% of them carry a `conservation_status`. "
   ]
  },
  {
   "cell_type": "markdown",
   "metadata": {},
   "source": [
    "#### Statistical Significance"
   ]
  },
  {
   "cell_type": "markdown",
   "metadata": {},
   "source": [
    "To determine whether the differences between `species` and their `conservation_status` is significant, I will run some Chi-Squared tests. A Chi-Square test is a test for independence between caregorical variables. In running a Chi-Square test, a contingency table is necessary. This is used in statistics to summarise the relationship between several categorical variables, and looks like this: \n",
    "\n",
    "||not protected|protected|\n",
    "|-|-|-|\n",
    "|Mammal|?|?|\n",
    "|Bird|?|?|\n",
    "\n",
    "The aim of the test is to conclude whether the two variables are related to each other. The first test will be ran using `Mammal` and `Bird` values, and called `contingency1`. In running the Chi-Square test, I will be using an alpha value of 0.05, and if the p-value of the test comes out greater than the alpha value, the **Null Hypothesis**  below holds true. If the p-value of the test comes out lower than the alpha value, then the **Null Hypothesis** is rejected, and it is likely that the **Alternative Hypothesis** is more consistent with our observations.  \n",
    "\n",
    "**Null Hypothesis:** There is no relation between `species` and their `conservation_status`.\n",
    "\n",
    "**Alternate Hypothesis:** There is a significant relation between `species` and their `conservation_status`. "
   ]
  },
  {
   "cell_type": "code",
   "execution_count": 23,
   "metadata": {},
   "outputs": [
    {
     "name": "stdout",
     "output_type": "stream",
     "text": [
      "p-value is: 0.6875948096661336\n",
      "Independent (null hypothesis holds true)\n"
     ]
    }
   ],
   "source": [
    "from scipy.stats import chi2_contingency\n",
    "\n",
    "contingency1 = [[146, 30],\n",
    "                [413, 75]]\n",
    "\n",
    "alpha = 0.05\n",
    "\n",
    "stat, p, dof, expected = chi2_contingency(contingency1)\n",
    "\n",
    "print(\"p-value is: \" + str(p))\n",
    "if p <= alpha:\n",
    "    print(\"Dependent (reject null hypothesis)\")\n",
    "else:\n",
    "    print(\"Independent (null hypothesis holds true)\")"
   ]
  },
  {
   "cell_type": "markdown",
   "metadata": {},
   "source": [
    "After running the test on `contingency1`, our p-value of 0.69 is significantly greater than our alpha value, indicating that the variables are independent of one another, and our **Null Hypothesis** holds true. \n",
    "\n",
    "I will now run another test called `contingency2`, and will be using the values of `Mammal` and `Reptile`. \n",
    "\n",
    "||not protected|protected|\n",
    "|-|-|-|\n",
    "|Mammal|?|?|\n",
    "|Reptile|?|?|"
   ]
  },
  {
   "cell_type": "code",
   "execution_count": 25,
   "metadata": {},
   "outputs": [
    {
     "name": "stdout",
     "output_type": "stream",
     "text": [
      "p-value is: 0.03835559022969898\n",
      "Dependent (reject null hypothesis)\n"
     ]
    }
   ],
   "source": [
    "contingency2 = [[146, 30],\n",
    "                [73, 5]]\n",
    "\n",
    "alpha = 0.05\n",
    "\n",
    "stat, p, dof, expected = chi2_contingency(contingency2)\n",
    "\n",
    "print(\"p-value is: \" + str(p))\n",
    "if p <= alpha:\n",
    "    print(\"Dependent (reject null hypothesis)\")\n",
    "else:\n",
    "    print(\"Independent (null hypothesis holds true)\")"
   ]
  },
  {
   "cell_type": "markdown",
   "metadata": {},
   "source": [
    "The Chi-Square test ran on `contingency2` returns a p=value of 0.038, which is lower than the alpha value used. This allows us to reject the **Null Hypothesis**, and conclude that the **Alternative Hypothesis** is more consistent with our observations. In turn, mammals statistically have a highter rate of needed protection when compared with reptiles, but not when compared with birds. "
   ]
  },
  {
   "cell_type": "markdown",
   "metadata": {},
   "source": [
    "#### Count of Species per Park"
   ]
  },
  {
   "cell_type": "markdown",
   "metadata": {},
   "source": [
    "The last step in the analysis will be uncovering which `category` of `species` was spotted the most at each park. \n",
    "\n",
    "First, in review of the `species` data set, there are a total (5,824) rows, but only (5,541) unique scientific names of `species` in the data set. I'm going to be using `.drop_duplicates()` and specifying `scientific_name` as the `subset` to remove any duplicated rows, and I will be saving this to `sciname_cat`. This is to ensure the number of unique scientific names match for both data sets. Thereafter, I will be dropping (3) columns that I will not be using for this portion of the analysis. "
   ]
  },
  {
   "cell_type": "code",
   "execution_count": 26,
   "metadata": {},
   "outputs": [
    {
     "name": "stdout",
     "output_type": "stream",
     "text": [
      "<class 'pandas.core.frame.DataFrame'>\n",
      "Int64Index: 5541 entries, 0 to 5823\n",
      "Data columns (total 2 columns):\n",
      " #   Column           Non-Null Count  Dtype \n",
      "---  ------           --------------  ----- \n",
      " 0   category         5541 non-null   object\n",
      " 1   scientific_name  5541 non-null   object\n",
      "dtypes: object(2)\n",
      "memory usage: 129.9+ KB\n",
      "None\n",
      "  category                scientific_name\n",
      "0   Mammal  Clethrionomys gapperi gapperi\n",
      "1   Mammal                      Bos bison\n",
      "2   Mammal                     Bos taurus\n",
      "3   Mammal                     Ovis aries\n",
      "4   Mammal                 Cervus elaphus\n"
     ]
    }
   ],
   "source": [
    "sciname_cat = species.drop_duplicates(subset = [\"scientific_name\"])\n",
    "sciname_cat = sciname_cat.drop([\"common_names\", \"conservation_status\", \"is_protected\"], axis = 1)\n",
    "\n",
    "print(sciname_cat.info())\n",
    "print(sciname_cat.head())"
   ]
  },
  {
   "cell_type": "markdown",
   "metadata": {},
   "source": [
    "Next, I will be merging the `observations` data set with `sciname_cat`, and saving it to a new data frame called `cat_sciname_obs`. To ensure I have not lost any data in the process, I will get the `.sum()` of the `observations` column to verify it matches the total number of `observations` in the original `observations` data set. "
   ]
  },
  {
   "cell_type": "code",
   "execution_count": 27,
   "metadata": {},
   "outputs": [
    {
     "name": "stdout",
     "output_type": "stream",
     "text": [
      "<class 'pandas.core.frame.DataFrame'>\n",
      "Int64Index: 23296 entries, 0 to 23295\n",
      "Data columns (total 4 columns):\n",
      " #   Column           Non-Null Count  Dtype \n",
      "---  ------           --------------  ----- \n",
      " 0   scientific_name  23296 non-null  object\n",
      " 1   park_name        23296 non-null  object\n",
      " 2   observations     23296 non-null  int64 \n",
      " 3   category         23296 non-null  object\n",
      "dtypes: int64(1), object(3)\n",
      "memory usage: 910.0+ KB\n",
      "None\n",
      "3314739\n"
     ]
    }
   ],
   "source": [
    "cat_sciname_obs = observations.merge(sciname_cat)\n",
    "\n",
    "print(cat_sciname_obs.info())\n",
    "print(cat_sciname_obs.observations.sum())"
   ]
  },
  {
   "cell_type": "markdown",
   "metadata": {},
   "source": [
    "To clean up the data a bit further, I will be creating a new data frame called `count_per_park`, in which I will be gathering the `.sum()` of `ovservations` of each `species` `category`, and grouping them together by `park_name`. "
   ]
  },
  {
   "cell_type": "code",
   "execution_count": 28,
   "metadata": {},
   "outputs": [
    {
     "data": {
      "text/html": [
       "<div>\n",
       "<style scoped>\n",
       "    .dataframe tbody tr th:only-of-type {\n",
       "        vertical-align: middle;\n",
       "    }\n",
       "\n",
       "    .dataframe tbody tr th {\n",
       "        vertical-align: top;\n",
       "    }\n",
       "\n",
       "    .dataframe thead th {\n",
       "        text-align: right;\n",
       "    }\n",
       "</style>\n",
       "<table border=\"1\" class=\"dataframe\">\n",
       "  <thead>\n",
       "    <tr style=\"text-align: right;\">\n",
       "      <th></th>\n",
       "      <th>park_name</th>\n",
       "      <th>category</th>\n",
       "      <th>observations</th>\n",
       "    </tr>\n",
       "  </thead>\n",
       "  <tbody>\n",
       "    <tr>\n",
       "      <th>0</th>\n",
       "      <td>Bryce National Park</td>\n",
       "      <td>Amphibian</td>\n",
       "      <td>7380</td>\n",
       "    </tr>\n",
       "    <tr>\n",
       "      <th>1</th>\n",
       "      <td>Bryce National Park</td>\n",
       "      <td>Bird</td>\n",
       "      <td>51647</td>\n",
       "    </tr>\n",
       "    <tr>\n",
       "      <th>2</th>\n",
       "      <td>Bryce National Park</td>\n",
       "      <td>Fish</td>\n",
       "      <td>12423</td>\n",
       "    </tr>\n",
       "    <tr>\n",
       "      <th>3</th>\n",
       "      <td>Bryce National Park</td>\n",
       "      <td>Mammal</td>\n",
       "      <td>20550</td>\n",
       "    </tr>\n",
       "    <tr>\n",
       "      <th>4</th>\n",
       "      <td>Bryce National Park</td>\n",
       "      <td>Nonvascular Plant</td>\n",
       "      <td>32992</td>\n",
       "    </tr>\n",
       "    <tr>\n",
       "      <th>5</th>\n",
       "      <td>Bryce National Park</td>\n",
       "      <td>Reptile</td>\n",
       "      <td>7950</td>\n",
       "    </tr>\n",
       "    <tr>\n",
       "      <th>6</th>\n",
       "      <td>Bryce National Park</td>\n",
       "      <td>Vascular Plant</td>\n",
       "      <td>443083</td>\n",
       "    </tr>\n",
       "    <tr>\n",
       "      <th>7</th>\n",
       "      <td>Great Smoky Mountains National Park</td>\n",
       "      <td>Amphibian</td>\n",
       "      <td>5707</td>\n",
       "    </tr>\n",
       "    <tr>\n",
       "      <th>8</th>\n",
       "      <td>Great Smoky Mountains National Park</td>\n",
       "      <td>Bird</td>\n",
       "      <td>37728</td>\n",
       "    </tr>\n",
       "    <tr>\n",
       "      <th>9</th>\n",
       "      <td>Great Smoky Mountains National Park</td>\n",
       "      <td>Fish</td>\n",
       "      <td>9206</td>\n",
       "    </tr>\n",
       "    <tr>\n",
       "      <th>10</th>\n",
       "      <td>Great Smoky Mountains National Park</td>\n",
       "      <td>Mammal</td>\n",
       "      <td>15012</td>\n",
       "    </tr>\n",
       "    <tr>\n",
       "      <th>11</th>\n",
       "      <td>Great Smoky Mountains National Park</td>\n",
       "      <td>Nonvascular Plant</td>\n",
       "      <td>24857</td>\n",
       "    </tr>\n",
       "    <tr>\n",
       "      <th>12</th>\n",
       "      <td>Great Smoky Mountains National Park</td>\n",
       "      <td>Reptile</td>\n",
       "      <td>5691</td>\n",
       "    </tr>\n",
       "    <tr>\n",
       "      <th>13</th>\n",
       "      <td>Great Smoky Mountains National Park</td>\n",
       "      <td>Vascular Plant</td>\n",
       "      <td>333619</td>\n",
       "    </tr>\n",
       "    <tr>\n",
       "      <th>14</th>\n",
       "      <td>Yellowstone National Park</td>\n",
       "      <td>Amphibian</td>\n",
       "      <td>19440</td>\n",
       "    </tr>\n",
       "    <tr>\n",
       "      <th>15</th>\n",
       "      <td>Yellowstone National Park</td>\n",
       "      <td>Bird</td>\n",
       "      <td>127251</td>\n",
       "    </tr>\n",
       "    <tr>\n",
       "      <th>16</th>\n",
       "      <td>Yellowstone National Park</td>\n",
       "      <td>Fish</td>\n",
       "      <td>30574</td>\n",
       "    </tr>\n",
       "    <tr>\n",
       "      <th>17</th>\n",
       "      <td>Yellowstone National Park</td>\n",
       "      <td>Mammal</td>\n",
       "      <td>50795</td>\n",
       "    </tr>\n",
       "    <tr>\n",
       "      <th>18</th>\n",
       "      <td>Yellowstone National Park</td>\n",
       "      <td>Nonvascular Plant</td>\n",
       "      <td>83021</td>\n",
       "    </tr>\n",
       "    <tr>\n",
       "      <th>19</th>\n",
       "      <td>Yellowstone National Park</td>\n",
       "      <td>Reptile</td>\n",
       "      <td>19554</td>\n",
       "    </tr>\n",
       "    <tr>\n",
       "      <th>20</th>\n",
       "      <td>Yellowstone National Park</td>\n",
       "      <td>Vascular Plant</td>\n",
       "      <td>1112927</td>\n",
       "    </tr>\n",
       "    <tr>\n",
       "      <th>21</th>\n",
       "      <td>Yosemite National Park</td>\n",
       "      <td>Amphibian</td>\n",
       "      <td>11444</td>\n",
       "    </tr>\n",
       "    <tr>\n",
       "      <th>22</th>\n",
       "      <td>Yosemite National Park</td>\n",
       "      <td>Bird</td>\n",
       "      <td>76207</td>\n",
       "    </tr>\n",
       "    <tr>\n",
       "      <th>23</th>\n",
       "      <td>Yosemite National Park</td>\n",
       "      <td>Fish</td>\n",
       "      <td>18615</td>\n",
       "    </tr>\n",
       "    <tr>\n",
       "      <th>24</th>\n",
       "      <td>Yosemite National Park</td>\n",
       "      <td>Mammal</td>\n",
       "      <td>30339</td>\n",
       "    </tr>\n",
       "    <tr>\n",
       "      <th>25</th>\n",
       "      <td>Yosemite National Park</td>\n",
       "      <td>Nonvascular Plant</td>\n",
       "      <td>49783</td>\n",
       "    </tr>\n",
       "    <tr>\n",
       "      <th>26</th>\n",
       "      <td>Yosemite National Park</td>\n",
       "      <td>Reptile</td>\n",
       "      <td>11483</td>\n",
       "    </tr>\n",
       "    <tr>\n",
       "      <th>27</th>\n",
       "      <td>Yosemite National Park</td>\n",
       "      <td>Vascular Plant</td>\n",
       "      <td>665461</td>\n",
       "    </tr>\n",
       "  </tbody>\n",
       "</table>\n",
       "</div>"
      ],
      "text/plain": [
       "                              park_name           category  observations\n",
       "0                   Bryce National Park          Amphibian          7380\n",
       "1                   Bryce National Park               Bird         51647\n",
       "2                   Bryce National Park               Fish         12423\n",
       "3                   Bryce National Park             Mammal         20550\n",
       "4                   Bryce National Park  Nonvascular Plant         32992\n",
       "5                   Bryce National Park            Reptile          7950\n",
       "6                   Bryce National Park     Vascular Plant        443083\n",
       "7   Great Smoky Mountains National Park          Amphibian          5707\n",
       "8   Great Smoky Mountains National Park               Bird         37728\n",
       "9   Great Smoky Mountains National Park               Fish          9206\n",
       "10  Great Smoky Mountains National Park             Mammal         15012\n",
       "11  Great Smoky Mountains National Park  Nonvascular Plant         24857\n",
       "12  Great Smoky Mountains National Park            Reptile          5691\n",
       "13  Great Smoky Mountains National Park     Vascular Plant        333619\n",
       "14            Yellowstone National Park          Amphibian         19440\n",
       "15            Yellowstone National Park               Bird        127251\n",
       "16            Yellowstone National Park               Fish         30574\n",
       "17            Yellowstone National Park             Mammal         50795\n",
       "18            Yellowstone National Park  Nonvascular Plant         83021\n",
       "19            Yellowstone National Park            Reptile         19554\n",
       "20            Yellowstone National Park     Vascular Plant       1112927\n",
       "21               Yosemite National Park          Amphibian         11444\n",
       "22               Yosemite National Park               Bird         76207\n",
       "23               Yosemite National Park               Fish         18615\n",
       "24               Yosemite National Park             Mammal         30339\n",
       "25               Yosemite National Park  Nonvascular Plant         49783\n",
       "26               Yosemite National Park            Reptile         11483\n",
       "27               Yosemite National Park     Vascular Plant        665461"
      ]
     },
     "execution_count": 28,
     "metadata": {},
     "output_type": "execute_result"
    }
   ],
   "source": [
    "count_per_park = cat_sciname_obs.groupby([\"park_name\", \"category\"]).sum(\"observations\").reset_index()\n",
    "\n",
    "count_per_park"
   ]
  },
  {
   "cell_type": "markdown",
   "metadata": {},
   "source": [
    "Next, I will be using `.pivot()` to clean up the data a little further and organize it in a clearer way. "
   ]
  },
  {
   "cell_type": "code",
   "execution_count": 29,
   "metadata": {},
   "outputs": [
    {
     "data": {
      "text/html": [
       "<div>\n",
       "<style scoped>\n",
       "    .dataframe tbody tr th:only-of-type {\n",
       "        vertical-align: middle;\n",
       "    }\n",
       "\n",
       "    .dataframe tbody tr th {\n",
       "        vertical-align: top;\n",
       "    }\n",
       "\n",
       "    .dataframe thead th {\n",
       "        text-align: right;\n",
       "    }\n",
       "</style>\n",
       "<table border=\"1\" class=\"dataframe\">\n",
       "  <thead>\n",
       "    <tr style=\"text-align: right;\">\n",
       "      <th></th>\n",
       "      <th>Park Name</th>\n",
       "      <th>Amphibian</th>\n",
       "      <th>Bird</th>\n",
       "      <th>Fish</th>\n",
       "      <th>Mammal</th>\n",
       "      <th>Nonvascular Plant</th>\n",
       "      <th>Reptile</th>\n",
       "      <th>Vascular Plant</th>\n",
       "    </tr>\n",
       "  </thead>\n",
       "  <tbody>\n",
       "    <tr>\n",
       "      <th>0</th>\n",
       "      <td>Bryce National Park</td>\n",
       "      <td>7380</td>\n",
       "      <td>51647</td>\n",
       "      <td>12423</td>\n",
       "      <td>20550</td>\n",
       "      <td>32992</td>\n",
       "      <td>7950</td>\n",
       "      <td>443083</td>\n",
       "    </tr>\n",
       "    <tr>\n",
       "      <th>1</th>\n",
       "      <td>Great Smoky Mountains National Park</td>\n",
       "      <td>5707</td>\n",
       "      <td>37728</td>\n",
       "      <td>9206</td>\n",
       "      <td>15012</td>\n",
       "      <td>24857</td>\n",
       "      <td>5691</td>\n",
       "      <td>333619</td>\n",
       "    </tr>\n",
       "    <tr>\n",
       "      <th>2</th>\n",
       "      <td>Yellowstone National Park</td>\n",
       "      <td>19440</td>\n",
       "      <td>127251</td>\n",
       "      <td>30574</td>\n",
       "      <td>50795</td>\n",
       "      <td>83021</td>\n",
       "      <td>19554</td>\n",
       "      <td>1112927</td>\n",
       "    </tr>\n",
       "    <tr>\n",
       "      <th>3</th>\n",
       "      <td>Yosemite National Park</td>\n",
       "      <td>11444</td>\n",
       "      <td>76207</td>\n",
       "      <td>18615</td>\n",
       "      <td>30339</td>\n",
       "      <td>49783</td>\n",
       "      <td>11483</td>\n",
       "      <td>665461</td>\n",
       "    </tr>\n",
       "  </tbody>\n",
       "</table>\n",
       "</div>"
      ],
      "text/plain": [
       "                             Park Name  Amphibian    Bird   Fish  Mammal  \\\n",
       "0                  Bryce National Park       7380   51647  12423   20550   \n",
       "1  Great Smoky Mountains National Park       5707   37728   9206   15012   \n",
       "2            Yellowstone National Park      19440  127251  30574   50795   \n",
       "3               Yosemite National Park      11444   76207  18615   30339   \n",
       "\n",
       "   Nonvascular Plant  Reptile  Vascular Plant  \n",
       "0              32992     7950          443083  \n",
       "1              24857     5691          333619  \n",
       "2              83021    19554         1112927  \n",
       "3              49783    11483          665461  "
      ]
     },
     "execution_count": 29,
     "metadata": {},
     "output_type": "execute_result"
    }
   ],
   "source": [
    "count_per_park = count_per_park.pivot(columns = \"category\", index = \"park_name\", values = \"observations\").reset_index()\n",
    "\n",
    "count_per_park.columns = [\"Park Name\", \"Amphibian\", \"Bird\", \"Fish\", \"Mammal\", \"Nonvascular Plant\", \"Reptile\", \"Vascular Plant\"]\n",
    "\n",
    "count_per_park"
   ]
  },
  {
   "cell_type": "markdown",
   "metadata": {},
   "source": [
    "It is very clear from the table above, and the bar chart below that the `species` that was spotted the most at each national park was `Vascular Plant`. I will be creating another table further below, but removing `Vascular Plant` from the data to get a better view of how the other `category` of `species` compare to one another. "
   ]
  },
  {
   "cell_type": "code",
   "execution_count": 30,
   "metadata": {},
   "outputs": [
    {
     "data": {
      "image/png": "[encoded data removed]",
      "text/plain": [
       "<Figure size 1080x576 with 1 Axes>"
      ]
     },
     "metadata": {
      "needs_background": "light"
     },
     "output_type": "display_data"
    }
   ],
   "source": [
    "ax = count_per_park.plot(kind = \"bar\", figsize = (15, 8), stacked = False)\n",
    "ax.set_xticks(range(len(count_per_park[\"Park Name\"])))\n",
    "ax.set_xticklabels(count_per_park[\"Park Name\"], fontsize = 11, rotation = 20)\n",
    "ax.set_xlabel(\"National Parks\", fontsize = 12)\n",
    "ax.set_ylabel(\"Number of Observations\", fontsize = 12)\n",
    "plt.title(\"Number of Observations of Species at Each National Park\");"
   ]
  },
  {
   "cell_type": "code",
   "execution_count": 31,
   "metadata": {},
   "outputs": [],
   "source": [
    "count_per_park = count_per_park.drop(\"Vascular Plant\", axis = 1)"
   ]
  },
  {
   "cell_type": "markdown",
   "metadata": {},
   "source": [
    "The `Bird` `category` is the next `species` that was spotted the most at each national park, followed then by `Nonvascular Plant`. `Yellow Stone` appears to have the most `observations` of each `species` when compared to the other national parks. "
   ]
  },
  {
   "cell_type": "code",
   "execution_count": 32,
   "metadata": {},
   "outputs": [
    {
     "data": {
      "image/png": "[encoded data removed]",
      "text/plain": [
       "<Figure size 1080x576 with 1 Axes>"
      ]
     },
     "metadata": {
      "needs_background": "light"
     },
     "output_type": "display_data"
    }
   ],
   "source": [
    "ax = count_per_park.plot(kind = \"bar\", figsize = (15, 8), stacked = False)\n",
    "ax.set_xticks(range(len(count_per_park[\"Park Name\"])))\n",
    "ax.set_xticklabels(count_per_park[\"Park Name\"], fontsize = 11, rotation = 20)\n",
    "ax.set_xlabel(\"National Parks\", fontsize = 12)\n",
    "ax.set_ylabel(\"Number of Observations\", fontsize = 12)\n",
    "plt.title(\"Number of Observations of Species at Each National Park\");"
   ]
  },
  {
   "cell_type": "markdown",
   "metadata": {},
   "source": [
    "# Conclusion"
   ]
  },
  {
   "cell_type": "markdown",
   "metadata": {},
   "source": [
    "Through the analysis of this project, many data visualizations were able to be made, as well as the ability to get a better understanding of the conservation status for the many different species within the data sets. The goal of the project was to also provide answers to the following questions:\n",
    "\n",
    "+ What is the distribution of conservation status for animals?\n",
    "    + The total nmumber of species that held some type of conservation status was (191), compared to the majority of species that did not hold any type of conservation status (5,633). Birds, vascular plants, and mammals were the (3) most common category of species that carried some type of conservation status. \n",
    "    \n",
    "    \n",
    "+ Are certain types of species more likely to need conservation?\n",
    "    + Once I broke down the count per species that carried some type of conservation status vs. those that did not, I was able to then calculate it by percentages. Mammals (17.05%) and birds (15.37%) carried the highest percentages of the species that received protection through conservation.  \n",
    "    \n",
    "    \n",
    "+ Are the differences between species and their conservation status significant?\n",
    "    + Two Chi-Squared tests were ran to determine whether the conservation status was significant between species, and the results returned that mammals and birds did not have a signicant difference in conservation percentage, whereas, mammals and reptiles did exhibit a statistical conservation status significance. \n",
    "    \n",
    "    \n",
    "+ Which species were spotted the most at each park?\n",
    "    + When grouped by category and park name, the species that was spotted the most at each national park was the vascular plant, followed by birds, and nonvascular plants. The park that provided the most observations was Yellowstone National Park. "
   ]
  }
 ],
 "metadata": {
  "kernelspec": {
   "display_name": "Python 3 (ipykernel)",
   "language": "python",
   "name": "python3"
  },
  "language_info": {
   "codemirror_mode": {
    "name": "ipython",
    "version": 3
   },
   "file_extension": ".py",
   "mimetype": "text/x-python",
   "name": "python",
   "nbconvert_exporter": "python",
   "pygments_lexer": "ipython3",
   "version": "3.9.12"
  }
 },
 "nbformat": 4,
 "nbformat_minor": 4
}
